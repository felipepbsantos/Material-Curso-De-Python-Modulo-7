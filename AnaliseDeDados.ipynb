{
 "cells": [
  {
   "cell_type": "code",
   "execution_count": null,
   "metadata": {},
   "outputs": [],
   "source": [
    "# Importação das bibliotecas necessárias\n",
    "import pandas as pd\n",
    "import matplotlib.pyplot as plt\n",
    "import numpy as np"
   ]
  },
  {
   "cell_type": "code",
   "execution_count": null,
   "metadata": {},
   "outputs": [],
   "source": [
    "# Leitura do arquivo CSV e configuração de exibição de colunas\n",
    "cota_parlamentar_df = pd.read_csv(\"cota-parlamentar.csv\")\n",
    "pd.set_option('display.max_columns', None)"
   ]
  },
  {
   "cell_type": "code",
   "execution_count": null,
   "metadata": {},
   "outputs": [],
   "source": [
    "\n",
    "# Visualização inicial dos dados\n",
    "cota_parlamentar_df.head()\n",
    "cota_parlamentar_df.info()\n",
    "cota_parlamentar_df.describe(include=\"all\")"
   ]
  },
  {
   "cell_type": "code",
   "execution_count": null,
   "metadata": {},
   "outputs": [],
   "source": [
    "# Função para converter valores para milhões e substituir erros por zero\n",
    "def converter_para_milhoes(df, colunas):\n",
    "    for coluna in colunas:\n",
    "        try:\n",
    "            df[coluna] = pd.to_numeric(df[coluna], errors='coerce') / 1e6  # Converte para número e divide por 1e6\n",
    "            df[coluna].fillna(0, inplace=True)  # Substitui valores nulos por zero\n",
    "        except Exception as e:\n",
    "            print(f\"Erro ao processar a coluna {coluna}: {e}\")\n",
    "            df[coluna] = 0  # Substitui a coluna inteira por zero em caso de erro\n",
    "    return df\n",
    "\n",
    "# Aplicar a função às colunas desejadas\n",
    "colunas_para_converter = ['vlrdocumento', 'vlrglosa', 'vlrliquido', 'vlrrestituicao']\n",
    "cota_parlamentar_df = converter_para_milhoes(cota_parlamentar_df, colunas_para_converter)\n",
    "\n",
    "# Verificar o resultado\n",
    "print(cota_parlamentar_df.head())"
   ]
  },
  {
   "cell_type": "code",
   "execution_count": null,
   "metadata": {},
   "outputs": [],
   "source": [
    "# Análise 1: Gráfico de barras para visualizar os gastos por partido\n",
    "cota_partido_df = cota_parlamentar_df.groupby('sgpartido')['vlrliquido'].sum().sort_values(ascending=False).reset_index()\n",
    "\n",
    "plt.figure(figsize=(12, 6))\n",
    "bars = plt.bar(cota_partido_df['sgpartido'], cota_partido_df['vlrliquido'], color='skyblue')\n",
    "plt.xlabel('Partido')\n",
    "plt.ylabel('Total de Gastos (Milhões R$)')\n",
    "plt.title('Total de Gastos por Partido')\n",
    "plt.xticks(rotation=90)\n",
    "\n",
    "# Adicionar rótulos de dados em cada barra\n",
    "for bar in bars:\n",
    "    yval = bar.get_height()\n",
    "    plt.text(bar.get_x() + bar.get_width()/2, yval + 5, f'{yval:.2f}', va='bottom', ha='center', rotation=90)\n",
    "\n",
    "plt.show()"
   ]
  },
  {
   "cell_type": "code",
   "execution_count": null,
   "metadata": {},
   "outputs": [],
   "source": [
    "# Análise 2: Gráfico de barras com gastos por parlamentar organizados por partido\n",
    "\n",
    "# Preparar os dados\n",
    "top_50_parlamentares = cota_parlamentar_df.groupby(['txnomeparlamentar', 'sgpartido'])['vlrliquido'].sum().reset_index()\n",
    "top_50_parlamentares = top_50_parlamentares.nlargest(50, 'vlrliquido')\n",
    "top_50_parlamentares['nome_com_partido'] = top_50_parlamentares['txnomeparlamentar'] + ' - ' + top_50_parlamentares['sgpartido']\n",
    "\n",
    "# Ordenar os dados para agrupar parlamentares por partido\n",
    "top_50_parlamentares = top_50_parlamentares.sort_values(by=['sgpartido', 'vlrliquido'], ascending=[True, False])\n",
    "\n",
    "# Calcular a média dos gastos dos Top 50\n",
    "media_gastos = top_50_parlamentares['vlrliquido'].median()\n",
    "\n",
    "# Criar o gráfico\n",
    "plt.figure(figsize=(16, 8))\n",
    "\n",
    "# Gráfico de barras\n",
    "barras = plt.bar(\n",
    "    top_50_parlamentares['nome_com_partido'], \n",
    "    top_50_parlamentares['vlrliquido'], \n",
    "    color='lightblue'\n",
    ")\n",
    "\n",
    "# Adicionar rótulos de dados\n",
    "for barra in barras:\n",
    "    altura = barra.get_height()\n",
    "    plt.text(\n",
    "        barra.get_x() + barra.get_width() / 2, \n",
    "        altura*0.85, \n",
    "        f'{altura:,.2f}', \n",
    "        ha='center', \n",
    "        va='bottom', \n",
    "        fontsize=9, \n",
    "        rotation=90\n",
    "    )\n",
    "\n",
    "# Adicionar linha da média\n",
    "plt.axhline(y=media_gastos, color='red', linestyle='-', linewidth=1.5, label=f'Média: {media_gastos:,.2f}')\n",
    "\n",
    "# Ajustar o gráfico\n",
    "plt.xlabel('Parlamentares (Agrupados por Partido)', fontsize=12)\n",
    "plt.ylabel('Total de Gastos (Milhões R$)', fontsize=12)\n",
    "plt.title('Gastos por Parlamentar (Top 50) organizados por Partido', fontsize=14)\n",
    "plt.xticks(rotation=90, fontsize=9)\n",
    "plt.legend()\n",
    "plt.tight_layout()\n",
    "\n",
    "plt.show()\n"
   ]
  },
  {
   "cell_type": "code",
   "execution_count": null,
   "metadata": {},
   "outputs": [],
   "source": [
    "# Análise 3: Gráfico de barras empilhadas para visualização detalhada por estado\n",
    "cota_partido_estado_df = cota_parlamentar_df.groupby(['sguf', 'sgpartido'])['vlrliquido'].sum().sort_values(ascending=False).reset_index()\n",
    "top_10_partidos = cota_partido_estado_df.groupby('sgpartido')['vlrliquido'].sum().nlargest(10).index\n",
    "cota_partido_estado_df_top_10 = cota_partido_estado_df[cota_partido_estado_df['sgpartido'].isin(top_10_partidos)]\n",
    "heatmap_data = cota_partido_estado_df_top_10.pivot(index='sguf', columns='sgpartido', values='vlrliquido')\n",
    "\n",
    "data_matrix = heatmap_data.values\n",
    "states = heatmap_data.index\n",
    "parties = heatmap_data.columns\n",
    "\n",
    "plt.figure(figsize=(14, 10))\n",
    "cax = plt.imshow(data_matrix, cmap='Reds', aspect='auto')\n",
    "plt.title('Gastos por Partido em Cada Estado (Top 10 Partidos)')\n",
    "plt.xlabel('Partido')\n",
    "plt.ylabel('Estado')\n",
    "plt.xticks(ticks=np.arange(len(parties)), labels=parties, rotation=90)\n",
    "plt.yticks(ticks=np.arange(len(states)), labels=states)\n",
    "plt.colorbar(cax, label='Gastos (milhões R$)')\n",
    "\n",
    "# Adicionar os valores das células\n",
    "for i in range(len(states)):\n",
    "    for j in range(len(parties)):\n",
    "        if not np.isnan(data_matrix[i, j]):\n",
    "            plt.text(j, i, f'{data_matrix[i, j]:,.0f}', ha='center', va='center', color='black')\n",
    "\n",
    "plt.show()"
   ]
  },
  {
   "cell_type": "code",
   "execution_count": null,
   "metadata": {},
   "outputs": [],
   "source": [
    "# Análise 4: Gráfico de pizza para distribuição dos tipos de gastos dos partidos que mais gastaram\n",
    "gastos_partido_tipo_df = cota_parlamentar_df.groupby(['sgpartido', 'txtdescricao'])['vlrliquido'].sum().reset_index()\n",
    "top_partidos = gastos_partido_tipo_df.groupby('sgpartido')['vlrliquido'].sum().nlargest(3).index\n",
    "\n",
    "for partido in top_partidos:\n",
    "    gastos_partido_df = gastos_partido_tipo_df[gastos_partido_tipo_df['sgpartido'] == partido]\n",
    "    total_gastos = gastos_partido_df['vlrliquido'].sum()\n",
    "    gastos_partido_df['percentual'] = (gastos_partido_df['vlrliquido'] / total_gastos) * 100\n",
    "    gastos_outros_df = gastos_partido_df[gastos_partido_df['percentual'] < 5]\n",
    "    gastos_maiores_df = gastos_partido_df[gastos_partido_df['percentual'] >= 5]\n",
    "    gastos_outros_total = gastos_outros_df['vlrliquido'].sum()\n",
    "    gastos_outros = pd.DataFrame([{'sgpartido': partido, 'txtdescricao': 'Outros', 'vlrliquido': gastos_outros_total}])\n",
    "    gastos_partido_final_df = pd.concat([gastos_maiores_df, gastos_outros], ignore_index=True)\n",
    "\n",
    "    plt.figure(figsize=(10, 8))\n",
    "    plt.pie(gastos_partido_final_df['vlrliquido'], labels=gastos_partido_final_df['txtdescricao'], autopct='%1.1f%%', startangle=140, colors=plt.cm.Paired.colors)\n",
    "    plt.title(f'Distribuição dos Tipos de Gastos do Partido \"{partido}\" (Menores de 5% agrupados em \"Outros\")')\n",
    "    plt.show()"
   ]
  }
 ],
 "metadata": {
  "kernelspec": {
   "display_name": "Python 3",
   "language": "python",
   "name": "python3"
  },
  "language_info": {
   "codemirror_mode": {
    "name": "ipython",
    "version": 3
   },
   "file_extension": ".py",
   "mimetype": "text/x-python",
   "name": "python",
   "nbconvert_exporter": "python",
   "pygments_lexer": "ipython3",
   "version": "3.11.9"
  }
 },
 "nbformat": 4,
 "nbformat_minor": 2
}
